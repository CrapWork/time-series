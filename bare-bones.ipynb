{
 "cells": [
  {
   "cell_type": "code",
   "execution_count": null,
   "metadata": {},
   "outputs": [],
   "source": [
    "import warnings\n",
    "import itertools\n",
    "import numpy as np\n",
    "import matplotlib.pyplot as plt\n",
    "warnings.filterwarnings(\"ignore\")\n",
    "plt.style.use('fivethirtyeight')\n",
    "import pandas as pd\n",
    "import statsmodels.api as sm\n",
    "import matplotlib\n",
    "matplotlib.rcParams['axes.labelsize'] = 14\n",
    "matplotlib.rcParams['xtick.labelsize'] = 12\n",
    "matplotlib.rcParams['ytick.labelsize'] = 12\n",
    "matplotlib.rcParams['text.color'] = 'k'"
   ]
  },
  {
   "cell_type": "code",
   "execution_count": 1,
   "metadata": {},
   "outputs": [],
   "source": [
    "import acquire"
   ]
  },
  {
   "cell_type": "code",
   "execution_count": 2,
   "metadata": {},
   "outputs": [],
   "source": [
    "df = acquire.get_data()"
   ]
  },
  {
   "cell_type": "code",
   "execution_count": 3,
   "metadata": {},
   "outputs": [
    {
     "name": "stdout",
     "output_type": "stream",
     "text": [
      "<class 'pandas.core.frame.DataFrame'>\n",
      "RangeIndex: 255 entries, 0 to 254\n",
      "Data columns (total 10 columns):\n",
      "Date                      255 non-null object\n",
      "Calories Burned           255 non-null object\n",
      "Steps                     255 non-null object\n",
      "Distance                  255 non-null float64\n",
      "Floors                    255 non-null int64\n",
      "Minutes Sedentary         255 non-null object\n",
      "Minutes Lightly Active    255 non-null int64\n",
      "Minutes Fairly Active     255 non-null int64\n",
      "Minutes Very Active       255 non-null int64\n",
      "Activity Calories         255 non-null object\n",
      "dtypes: float64(1), int64(4), object(5)\n",
      "memory usage: 20.0+ KB\n"
     ]
    }
   ],
   "source": [
    "df.info()"
   ]
  },
  {
   "cell_type": "code",
   "execution_count": 4,
   "metadata": {},
   "outputs": [
    {
     "name": "stdout",
     "output_type": "stream",
     "text": [
      "Calories Burned\n",
      "<class 'pandas.core.frame.DataFrame'>\n",
      "Index: 255 entries, 2018-04-26 to 2018-12-06\n",
      "Data columns (total 9 columns):\n",
      "Calories Burned           255 non-null float64\n",
      "Steps                     255 non-null object\n",
      "Distance                  255 non-null float64\n",
      "Floors                    255 non-null int64\n",
      "Minutes Sedentary         255 non-null object\n",
      "Minutes Lightly Active    255 non-null int64\n",
      "Minutes Fairly Active     255 non-null int64\n",
      "Minutes Very Active       255 non-null int64\n",
      "Activity Calories         255 non-null object\n",
      "dtypes: float64(2), int64(4), object(3)\n",
      "memory usage: 19.9+ KB\n",
      "Steps\n",
      "<class 'pandas.core.frame.DataFrame'>\n",
      "Index: 255 entries, 2018-04-26 to 2018-12-06\n",
      "Data columns (total 9 columns):\n",
      "Calories Burned           255 non-null float64\n",
      "Steps                     255 non-null float64\n",
      "Distance                  255 non-null float64\n",
      "Floors                    255 non-null int64\n",
      "Minutes Sedentary         255 non-null object\n",
      "Minutes Lightly Active    255 non-null int64\n",
      "Minutes Fairly Active     255 non-null int64\n",
      "Minutes Very Active       255 non-null int64\n",
      "Activity Calories         255 non-null object\n",
      "dtypes: float64(3), int64(4), object(2)\n",
      "memory usage: 19.9+ KB\n",
      "Minutes Sedentary\n",
      "<class 'pandas.core.frame.DataFrame'>\n",
      "Index: 255 entries, 2018-04-26 to 2018-12-06\n",
      "Data columns (total 9 columns):\n",
      "Calories Burned           255 non-null float64\n",
      "Steps                     255 non-null float64\n",
      "Distance                  255 non-null float64\n",
      "Floors                    255 non-null int64\n",
      "Minutes Sedentary         255 non-null float64\n",
      "Minutes Lightly Active    255 non-null int64\n",
      "Minutes Fairly Active     255 non-null int64\n",
      "Minutes Very Active       255 non-null int64\n",
      "Activity Calories         255 non-null object\n",
      "dtypes: float64(4), int64(4), object(1)\n",
      "memory usage: 19.9+ KB\n",
      "Activity Calories\n",
      "<class 'pandas.core.frame.DataFrame'>\n",
      "Index: 255 entries, 2018-04-26 to 2018-12-06\n",
      "Data columns (total 9 columns):\n",
      "Calories Burned           255 non-null float64\n",
      "Steps                     255 non-null float64\n",
      "Distance                  255 non-null float64\n",
      "Floors                    255 non-null int64\n",
      "Minutes Sedentary         255 non-null float64\n",
      "Minutes Lightly Active    255 non-null int64\n",
      "Minutes Fairly Active     255 non-null int64\n",
      "Minutes Very Active       255 non-null int64\n",
      "Activity Calories         255 non-null float64\n",
      "dtypes: float64(5), int64(4)\n",
      "memory usage: 19.9+ KB\n"
     ]
    }
   ],
   "source": [
    "df = acquire.clean_data(df)"
   ]
  },
  {
   "cell_type": "code",
   "execution_count": 6,
   "metadata": {},
   "outputs": [
    {
     "data": {
      "text/html": [
       "<div>\n",
       "<style scoped>\n",
       "    .dataframe tbody tr th:only-of-type {\n",
       "        vertical-align: middle;\n",
       "    }\n",
       "\n",
       "    .dataframe tbody tr th {\n",
       "        vertical-align: top;\n",
       "    }\n",
       "\n",
       "    .dataframe thead th {\n",
       "        text-align: right;\n",
       "    }\n",
       "</style>\n",
       "<table border=\"1\" class=\"dataframe\">\n",
       "  <thead>\n",
       "    <tr style=\"text-align: right;\">\n",
       "      <th></th>\n",
       "      <th>Calories Burned</th>\n",
       "      <th>Steps</th>\n",
       "      <th>Distance</th>\n",
       "      <th>Floors</th>\n",
       "      <th>Minutes Sedentary</th>\n",
       "      <th>Minutes Lightly Active</th>\n",
       "      <th>Minutes Fairly Active</th>\n",
       "      <th>Minutes Very Active</th>\n",
       "      <th>Activity Calories</th>\n",
       "    </tr>\n",
       "    <tr>\n",
       "      <th>Date</th>\n",
       "      <th></th>\n",
       "      <th></th>\n",
       "      <th></th>\n",
       "      <th></th>\n",
       "      <th></th>\n",
       "      <th></th>\n",
       "      <th></th>\n",
       "      <th></th>\n",
       "      <th></th>\n",
       "    </tr>\n",
       "  </thead>\n",
       "  <tbody>\n",
       "    <tr>\n",
       "      <th>2018-04-26</th>\n",
       "      <td>2635.0</td>\n",
       "      <td>2931.0</td>\n",
       "      <td>1.38</td>\n",
       "      <td>2</td>\n",
       "      <td>1347.0</td>\n",
       "      <td>93</td>\n",
       "      <td>0</td>\n",
       "      <td>0</td>\n",
       "      <td>566.0</td>\n",
       "    </tr>\n",
       "    <tr>\n",
       "      <th>2018-04-27</th>\n",
       "      <td>3649.0</td>\n",
       "      <td>9971.0</td>\n",
       "      <td>4.70</td>\n",
       "      <td>19</td>\n",
       "      <td>1158.0</td>\n",
       "      <td>219</td>\n",
       "      <td>46</td>\n",
       "      <td>17</td>\n",
       "      <td>1752.0</td>\n",
       "    </tr>\n",
       "    <tr>\n",
       "      <th>2018-04-28</th>\n",
       "      <td>3379.0</td>\n",
       "      <td>3521.0</td>\n",
       "      <td>1.66</td>\n",
       "      <td>2</td>\n",
       "      <td>702.0</td>\n",
       "      <td>155</td>\n",
       "      <td>22</td>\n",
       "      <td>11</td>\n",
       "      <td>1124.0</td>\n",
       "    </tr>\n",
       "    <tr>\n",
       "      <th>2018-04-29</th>\n",
       "      <td>2851.0</td>\n",
       "      <td>1639.0</td>\n",
       "      <td>0.77</td>\n",
       "      <td>0</td>\n",
       "      <td>891.0</td>\n",
       "      <td>122</td>\n",
       "      <td>0</td>\n",
       "      <td>0</td>\n",
       "      <td>602.0</td>\n",
       "    </tr>\n",
       "    <tr>\n",
       "      <th>2018-04-30</th>\n",
       "      <td>2825.0</td>\n",
       "      <td>1323.0</td>\n",
       "      <td>0.62</td>\n",
       "      <td>0</td>\n",
       "      <td>880.0</td>\n",
       "      <td>104</td>\n",
       "      <td>0</td>\n",
       "      <td>0</td>\n",
       "      <td>540.0</td>\n",
       "    </tr>\n",
       "  </tbody>\n",
       "</table>\n",
       "</div>"
      ],
      "text/plain": [
       "            Calories Burned   Steps  Distance  Floors  Minutes Sedentary  \\\n",
       "Date                                                                       \n",
       "2018-04-26           2635.0  2931.0      1.38       2             1347.0   \n",
       "2018-04-27           3649.0  9971.0      4.70      19             1158.0   \n",
       "2018-04-28           3379.0  3521.0      1.66       2              702.0   \n",
       "2018-04-29           2851.0  1639.0      0.77       0              891.0   \n",
       "2018-04-30           2825.0  1323.0      0.62       0              880.0   \n",
       "\n",
       "            Minutes Lightly Active  Minutes Fairly Active  \\\n",
       "Date                                                        \n",
       "2018-04-26                      93                      0   \n",
       "2018-04-27                     219                     46   \n",
       "2018-04-28                     155                     22   \n",
       "2018-04-29                     122                      0   \n",
       "2018-04-30                     104                      0   \n",
       "\n",
       "            Minutes Very Active  Activity Calories  \n",
       "Date                                                \n",
       "2018-04-26                    0              566.0  \n",
       "2018-04-27                   17             1752.0  \n",
       "2018-04-28                   11             1124.0  \n",
       "2018-04-29                    0              602.0  \n",
       "2018-04-30                    0              540.0  "
      ]
     },
     "execution_count": 6,
     "metadata": {},
     "output_type": "execute_result"
    }
   ],
   "source": [
    "df.head()"
   ]
  },
  {
   "cell_type": "code",
   "execution_count": null,
   "metadata": {},
   "outputs": [],
   "source": [
    "from sklearn.preprocessing import StandardScaler"
   ]
  },
  {
   "cell_type": "code",
   "execution_count": null,
   "metadata": {},
   "outputs": [],
   "source": [
    "scaler = StandardScaler()"
   ]
  },
  {
   "cell_type": "code",
   "execution_count": null,
   "metadata": {},
   "outputs": [],
   "source": [
    "scaler.fit(df2)"
   ]
  },
  {
   "cell_type": "code",
   "execution_count": null,
   "metadata": {},
   "outputs": [],
   "source": [
    "df3 = scaler.transform(df2)"
   ]
  },
  {
   "cell_type": "code",
   "execution_count": null,
   "metadata": {},
   "outputs": [],
   "source": [
    "columns = list(df2.columns)"
   ]
  },
  {
   "cell_type": "code",
   "execution_count": null,
   "metadata": {},
   "outputs": [],
   "source": [
    "columns"
   ]
  },
  {
   "cell_type": "code",
   "execution_count": null,
   "metadata": {},
   "outputs": [],
   "source": [
    "df_scaled = pd.DataFrame(df3, columns=columns)"
   ]
  },
  {
   "cell_type": "code",
   "execution_count": null,
   "metadata": {},
   "outputs": [],
   "source": [
    "df_scaled2 = df_scaled.set_index(df2.index)"
   ]
  },
  {
   "cell_type": "code",
   "execution_count": null,
   "metadata": {},
   "outputs": [],
   "source": [
    "df2.Floors.plot(figsize=(15, 6))"
   ]
  },
  {
   "cell_type": "code",
   "execution_count": null,
   "metadata": {},
   "outputs": [],
   "source": [
    "floors = df2.Floors"
   ]
  },
  {
   "cell_type": "code",
   "execution_count": null,
   "metadata": {},
   "outputs": [],
   "source": [
    "floors"
   ]
  },
  {
   "cell_type": "code",
   "execution_count": null,
   "metadata": {},
   "outputs": [],
   "source": []
  }
 ],
 "metadata": {
  "kernelspec": {
   "display_name": "Python 3",
   "language": "python",
   "name": "python3"
  },
  "language_info": {
   "codemirror_mode": {
    "name": "ipython",
    "version": 3
   },
   "file_extension": ".py",
   "mimetype": "text/x-python",
   "name": "python",
   "nbconvert_exporter": "python",
   "pygments_lexer": "ipython3",
   "version": "3.7.3"
  }
 },
 "nbformat": 4,
 "nbformat_minor": 2
}
