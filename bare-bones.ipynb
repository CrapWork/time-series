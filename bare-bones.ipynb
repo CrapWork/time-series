{
 "cells": [
  {
   "cell_type": "code",
   "execution_count": null,
   "metadata": {},
   "outputs": [],
   "source": [
    "import warnings\n",
    "import itertools\n",
    "import numpy as np\n",
    "import matplotlib.pyplot as plt\n",
    "warnings.filterwarnings(\"ignore\")\n",
    "plt.style.use('fivethirtyeight')\n",
    "import pandas as pd\n",
    "import statsmodels.api as sm\n",
    "import matplotlib\n",
    "matplotlib.rcParams['axes.labelsize'] = 14\n",
    "matplotlib.rcParams['xtick.labelsize'] = 12\n",
    "matplotlib.rcParams['ytick.labelsize'] = 12\n",
    "matplotlib.rcParams['text.color'] = 'k'"
   ]
  },
  {
   "cell_type": "code",
   "execution_count": 1,
   "metadata": {},
   "outputs": [],
   "source": [
    "import acquire"
   ]
  },
  {
   "cell_type": "code",
   "execution_count": 2,
   "metadata": {},
   "outputs": [],
   "source": [
    "df = acquire.get_data()"
   ]
  },
  {
   "cell_type": "code",
   "execution_count": 3,
   "metadata": {},
   "outputs": [
    {
     "name": "stdout",
     "output_type": "stream",
     "text": [
      "<class 'pandas.core.frame.DataFrame'>\n",
      "RangeIndex: 255 entries, 0 to 254\n",
      "Data columns (total 10 columns):\n",
      "Date                      255 non-null object\n",
      "Calories Burned           255 non-null object\n",
      "Steps                     255 non-null object\n",
      "Distance                  255 non-null float64\n",
      "Floors                    255 non-null int64\n",
      "Minutes Sedentary         255 non-null object\n",
      "Minutes Lightly Active    255 non-null int64\n",
      "Minutes Fairly Active     255 non-null int64\n",
      "Minutes Very Active       255 non-null int64\n",
      "Activity Calories         255 non-null object\n",
      "dtypes: float64(1), int64(4), object(5)\n",
      "memory usage: 20.0+ KB\n"
     ]
    }
   ],
   "source": [
    "df.info()"
   ]
  },
  {
   "cell_type": "code",
   "execution_count": 4,
   "metadata": {},
   "outputs": [
    {
     "name": "stdout",
     "output_type": "stream",
     "text": [
      "Calories Burned\n",
      "<class 'pandas.core.frame.DataFrame'>\n",
      "Index: 255 entries, 2018-04-26 to 2018-12-06\n",
      "Data columns (total 9 columns):\n",
      "Calories Burned           255 non-null float64\n",
      "Steps                     255 non-null object\n",
      "Distance                  255 non-null float64\n",
      "Floors                    255 non-null int64\n",
      "Minutes Sedentary         255 non-null object\n",
      "Minutes Lightly Active    255 non-null int64\n",
      "Minutes Fairly Active     255 non-null int64\n",
      "Minutes Very Active       255 non-null int64\n",
      "Activity Calories         255 non-null object\n",
      "dtypes: float64(2), int64(4), object(3)\n",
      "memory usage: 19.9+ KB\n",
      "Steps\n",
      "<class 'pandas.core.frame.DataFrame'>\n",
      "Index: 255 entries, 2018-04-26 to 2018-12-06\n",
      "Data columns (total 9 columns):\n",
      "Calories Burned           255 non-null float64\n",
      "Steps                     255 non-null float64\n",
      "Distance                  255 non-null float64\n",
      "Floors                    255 non-null int64\n",
      "Minutes Sedentary         255 non-null object\n",
      "Minutes Lightly Active    255 non-null int64\n",
      "Minutes Fairly Active     255 non-null int64\n",
      "Minutes Very Active       255 non-null int64\n",
      "Activity Calories         255 non-null object\n",
      "dtypes: float64(3), int64(4), object(2)\n",
      "memory usage: 19.9+ KB\n",
      "Minutes Sedentary\n",
      "<class 'pandas.core.frame.DataFrame'>\n",
      "Index: 255 entries, 2018-04-26 to 2018-12-06\n",
      "Data columns (total 9 columns):\n",
      "Calories Burned           255 non-null float64\n",
      "Steps                     255 non-null float64\n",
      "Distance                  255 non-null float64\n",
      "Floors                    255 non-null int64\n",
      "Minutes Sedentary         255 non-null float64\n",
      "Minutes Lightly Active    255 non-null int64\n",
      "Minutes Fairly Active     255 non-null int64\n",
      "Minutes Very Active       255 non-null int64\n",
      "Activity Calories         255 non-null object\n",
      "dtypes: float64(4), int64(4), object(1)\n",
      "memory usage: 19.9+ KB\n",
      "Activity Calories\n",
      "<class 'pandas.core.frame.DataFrame'>\n",
      "Index: 255 entries, 2018-04-26 to 2018-12-06\n",
      "Data columns (total 9 columns):\n",
      "Calories Burned           255 non-null float64\n",
      "Steps                     255 non-null float64\n",
      "Distance                  255 non-null float64\n",
      "Floors                    255 non-null int64\n",
      "Minutes Sedentary         255 non-null float64\n",
      "Minutes Lightly Active    255 non-null int64\n",
      "Minutes Fairly Active     255 non-null int64\n",
      "Minutes Very Active       255 non-null int64\n",
      "Activity Calories         255 non-null float64\n",
      "dtypes: float64(5), int64(4)\n",
      "memory usage: 19.9+ KB\n"
     ]
    }
   ],
   "source": [
    "df = acquire.clean_data(df)"
   ]
  },
  {
   "cell_type": "code",
   "execution_count": null,
   "metadata": {},
   "outputs": [],
   "source": [
    "from sklearn.preprocessing import StandardScaler"
   ]
  },
  {
   "cell_type": "code",
   "execution_count": null,
   "metadata": {},
   "outputs": [],
   "source": [
    "scaler = StandardScaler()"
   ]
  },
  {
   "cell_type": "code",
   "execution_count": null,
   "metadata": {},
   "outputs": [],
   "source": [
    "scaler.fit(df2)"
   ]
  },
  {
   "cell_type": "code",
   "execution_count": null,
   "metadata": {},
   "outputs": [],
   "source": [
    "df3 = scaler.transform(df2)"
   ]
  },
  {
   "cell_type": "code",
   "execution_count": null,
   "metadata": {},
   "outputs": [],
   "source": [
    "columns = list(df2.columns)"
   ]
  },
  {
   "cell_type": "code",
   "execution_count": null,
   "metadata": {},
   "outputs": [],
   "source": [
    "columns"
   ]
  },
  {
   "cell_type": "code",
   "execution_count": null,
   "metadata": {},
   "outputs": [],
   "source": [
    "df_scaled = pd.DataFrame(df3, columns=columns)"
   ]
  },
  {
   "cell_type": "code",
   "execution_count": null,
   "metadata": {},
   "outputs": [],
   "source": [
    "df_scaled2 = df_scaled.set_index(df2.index)"
   ]
  },
  {
   "cell_type": "code",
   "execution_count": null,
   "metadata": {},
   "outputs": [],
   "source": [
    "df2.Floors.plot(figsize=(15, 6))"
   ]
  },
  {
   "cell_type": "code",
   "execution_count": null,
   "metadata": {},
   "outputs": [],
   "source": [
    "floors = df2.Floors"
   ]
  },
  {
   "cell_type": "code",
   "execution_count": null,
   "metadata": {},
   "outputs": [],
   "source": [
    "floors"
   ]
  },
  {
   "cell_type": "code",
   "execution_count": null,
   "metadata": {},
   "outputs": [],
   "source": []
  }
 ],
 "metadata": {
  "kernelspec": {
   "display_name": "Python 3",
   "language": "python",
   "name": "python3"
  },
  "language_info": {
   "codemirror_mode": {
    "name": "ipython",
    "version": 3
   },
   "file_extension": ".py",
   "mimetype": "text/x-python",
   "name": "python",
   "nbconvert_exporter": "python",
   "pygments_lexer": "ipython3",
   "version": "3.7.3"
  }
 },
 "nbformat": 4,
 "nbformat_minor": 2
}
